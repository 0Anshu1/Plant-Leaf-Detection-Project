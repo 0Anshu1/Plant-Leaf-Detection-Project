{
 "cells": [
  {
   "cell_type": "code",
   "execution_count": null,
   "id": "84f002ee-d831-42c9-9abc-80f13d3f8149",
   "metadata": {},
   "outputs": [],
   "source": [
    "from tensorflow.keras.preprocessing import image\n",
    "import numpy as np\n",
    "\n",
    "# Load and preprocess the image you want to predict\n",
    "img_path = \"D:\\project\\Test\\ashoka (8).jpg\"\n",
    "img = image.load_img(img_path, target_size=(200, 200))\n",
    "img_array = image.img_to_array(img)\n",
    "img_array = np.expand_dims(img_array, axis=0)  # Add batch dimension\n",
    "img_array /= 255.0  # Normalize the pixel values\n",
    "\n",
    "# Make predictions\n",
    "predictions = model.predict(img_array)\n",
    "\n",
    "# Get the predicted class index\n",
    "predicted_class_index = np.argmax(predictions, axis=1)[0]\n",
    "\n",
    "# Map the class index to class label (if you have class labels)\n",
    "class_labels = train_datagen.class_indices  # Assuming you have used train_datagen\n",
    "predicted_class_label = [k for k, v in class_labels.items() if v == predicted_class_index][0]\n",
    "\n",
    "print(\"Predicted class:\", predicted_class_label)\n"
   ]
  }
 ],
 "metadata": {
  "kernelspec": {
   "display_name": "Python 3 (ipykernel)",
   "language": "python",
   "name": "python3"
  },
  "language_info": {
   "codemirror_mode": {
    "name": "ipython",
    "version": 3
   },
   "file_extension": ".py",
   "mimetype": "text/x-python",
   "name": "python",
   "nbconvert_exporter": "python",
   "pygments_lexer": "ipython3",
   "version": "3.11.4"
  }
 },
 "nbformat": 4,
 "nbformat_minor": 5
}
