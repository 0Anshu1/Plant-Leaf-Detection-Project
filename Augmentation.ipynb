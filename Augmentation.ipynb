{
 "cells": [
  {
   "cell_type": "code",
   "execution_count": null,
   "id": "6e58e642-523f-4df2-8e3a-24a4b5a49e8e",
   "metadata": {},
   "outputs": [],
   "source": [
    "import Augmentor\n",
    "\n",
    "# Initialize a pipeline with the input image\n",
    "p = Augmentor.Pipeline(\"D:\\project\\Train\")\n",
    "\n",
    "# Define augmentation operations\n",
    "p.rotate_random_90(probability=0.7)\n",
    "p.flip_left_right(probability=0.7)\n",
    "# p.zoom_random(probability=0.2, percentage_area=0.3)\n",
    "\n",
    "# Set the number of augmented images you want to generate\n",
    "num_samples =800\n",
    "\n",
    "# Execute the pipeline to generate augmented images\n",
    "p.sample(num_samples)"
   ]
  }
 ],
 "metadata": {
  "kernelspec": {
   "display_name": "Python 3 (ipykernel)",
   "language": "python",
   "name": "python3"
  },
  "language_info": {
   "codemirror_mode": {
    "name": "ipython",
    "version": 3
   },
   "file_extension": ".py",
   "mimetype": "text/x-python",
   "name": "python",
   "nbconvert_exporter": "python",
   "pygments_lexer": "ipython3",
   "version": "3.11.4"
  }
 },
 "nbformat": 4,
 "nbformat_minor": 5
}
